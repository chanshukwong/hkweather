{
 "cells": [
  {
   "cell_type": "code",
   "execution_count": 2,
   "id": "7820877c-c9d7-412c-b916-32f6caedd6c2",
   "metadata": {},
   "outputs": [
    {
     "name": "stderr",
     "output_type": "stream",
     "text": [
      "usage: python hkweather.py [-h] [-l LANGUAGE]\n",
      "python hkweather.py: error: unrecognized arguments: -f /Users/user/Library/Jupyter/runtime/kernel-be1b310e-ecfd-4fc6-8317-42fde4b22aaa.json\n"
     ]
    },
    {
     "ename": "SystemExit",
     "evalue": "2",
     "output_type": "error",
     "traceback": [
      "An exception has occurred, use %tb to see the full traceback.\n",
      "\u001b[0;31mSystemExit\u001b[0m\u001b[0;31m:\u001b[0m 2\n"
     ]
    },
    {
     "name": "stderr",
     "output_type": "stream",
     "text": [
      "/Users/user/opt/miniconda3/lib/python3.9/site-packages/IPython/core/interactiveshell.py:3558: UserWarning: To exit: use 'exit', 'quit', or Ctrl-D.\n",
      "  warn(\"To exit: use 'exit', 'quit', or Ctrl-D.\", stacklevel=1)\n"
     ]
    }
   ],
   "source": [
    "import requests\n",
    "from argparse import ArgumentParser, ArgumentDefaultsHelpFormatter\n",
    "parser = ArgumentParser(prog = 'python hkweather.py',\n",
    "                        description = 'Hong Kong Weather Forecast香港天氣預報',\n",
    "                        formatter_class = ArgumentDefaultsHelpFormatter)\n",
    "parser.add_argument(\"-l\", \"--language\", help=\"Language (en, tc)\")\n",
    "args = vars(parser.parse_args())\n",
    "\n",
    "def gen_report():\n",
    "    print(\"Time:\", forecast['updateTime'])\n",
    "    print(\"Description:\", forecast['forecastDesc'])    \n",
    "    print(\"Outlook:\", forecast['outlook'])\n",
    "    # print(\"Summary:\", forecast)\n",
    "    # for i in forecast.items():\n",
    "    #     print(i)\n",
    "\n",
    "try:\n",
    "    language = args[\"language\"]\n",
    "    response = requests.get(f\"https://data.weather.gov.hk/weatherAPI/opendata/weather.php?dataType=flw&lang=tc\")\n",
    "    forecast = response.json()   \n",
    "    gen_report()\n",
    "except:\n",
    "    print(\"usage: python hkweather.py [-h] [-l LANGUAGE]\")"
   ]
  },
  {
   "cell_type": "code",
   "execution_count": null,
   "id": "2d572294-46be-4dcc-9a7d-97d1b826847b",
   "metadata": {},
   "outputs": [],
   "source": []
  }
 ],
 "metadata": {
  "kernelspec": {
   "display_name": "Python 3 (ipykernel)",
   "language": "python",
   "name": "python3"
  },
  "language_info": {
   "codemirror_mode": {
    "name": "ipython",
    "version": 3
   },
   "file_extension": ".py",
   "mimetype": "text/x-python",
   "name": "python",
   "nbconvert_exporter": "python",
   "pygments_lexer": "ipython3",
   "version": "3.9.19"
  }
 },
 "nbformat": 4,
 "nbformat_minor": 5
}
